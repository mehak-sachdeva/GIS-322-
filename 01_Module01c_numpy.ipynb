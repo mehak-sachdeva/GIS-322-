{
  "cells": [
    {
      "cell_type": "markdown",
      "metadata": {
        "colab_type": "text",
        "id": "view-in-github"
      },
      "source": [
        "<a href=\"https://colab.research.google.com/github/mehak-sachdeva/GIS-322/blob/main/01_Module01c_numpy.ipynb\" target=\"_parent\"><img src=\"https://colab.research.google.com/assets/colab-badge.svg\" alt=\"Open In Colab\"/></a>"
      ]
    },
    {
      "cell_type": "markdown",
      "metadata": {
        "colab_type": "text",
        "id": "Hnm3uyONsA6q"
      },
      "source": [
        "# Review of numpy for basic usage and file read\n",
        "\n",
        "One of the \"classical\" problems in GIS is the situation where you have a set of coordinates in a file and you need to get them into a map (or into a GIS-software). Python is a really handy tool to solve this problem as with Python it is basically possible to read data from any kind of input datafile (such as csv-, txt-, excel-, or gpx-files (gps data) or from different databases). \n",
        "\n",
        "Tasks:\n",
        "1. Read from sample dataset travelTimes_example_2019.txt using numpy. This file contains travel times in some sampled trips. \n",
        "\n",
        "The first four rows of our data looks like this:\n",
        "   from_id;to_id;fromid_toid;route_number;at;from_x;from_y;to_x;to_y;total_route_time;route_time;route_distance;route_total_lines\n",
        "   5861326;5785640;5861326_5785640;1;08:10;24.9704379;60.3119173;24.8560344;60.399940599999994;125.0;99.0;22917.6;2.0\n",
        "   5861326;5785641;5861326_5785641;1;08:10;24.9704379;60.3119173;24.8605682;60.4000135;123.0;102.0;23123.5;2.0\n",
        "   5861326;5785642;5861326_5785642;1;08:10;24.9704379;60.3119173;24.865102;60.4000863;125.0;103.0;23241.3;2.0\n",
        "\n",
        "The important columns are:\n",
        "\n",
        "**from_x**:\t    x-coordinate of the origin location (longitude)\n",
        "\n",
        "**from_y**:\t    y-coordinate of the origin location (latitude)\n",
        "\n",
        "**to_x**:\t      x-coordinate of the destination location (longitude)\n",
        "\n",
        "**to_y**:\ty-coordinate of the destination location (latitude)\n",
        "\n",
        "**total_route_time**:\tTravel time with public transportation at the route\n",
        "\n",
        "\n"
      ]
    },
    {
      "cell_type": "markdown",
      "metadata": {
        "colab_type": "text",
        "id": "fR-B9C6vw988"
      },
      "source": [
        "## A review of numpy"
      ]
    },
    {
      "cell_type": "markdown",
      "metadata": {
        "colab_type": "text",
        "id": "Q-LzTambcIac"
      },
      "source": [
        "reference: https://docs.scipy.org/doc/numpy/user/quickstart.html"
      ]
    },
    {
      "cell_type": "markdown",
      "metadata": {
        "colab_type": "text",
        "id": "zERezHrGcIad"
      },
      "source": [
        "NumPy’s main object is the homogeneous multidimensional array. It is a table of elements (usually numbers), all of the same type, indexed by a tuple of positive integers. In NumPy dimensions are called axes.\n",
        "\n",
        "For example, the coordinates of a point in 3D space [1, 2, 1] has one axis. That axis has 3 elements in it, so we say it has a length of 3. "
      ]
    },
    {
      "cell_type": "markdown",
      "metadata": {
        "colab_type": "text",
        "id": "JkEqFm8rcIae"
      },
      "source": [
        "#### Let's take a good at a few examples of numpy"
      ]
    },
    {
      "cell_type": "code",
      "execution_count": null,
      "metadata": {
        "colab": {
          "base_uri": "https://localhost:8080/",
          "height": 34
        },
        "colab_type": "code",
        "id": "OwdK5VCIcIaf",
        "outputId": "64a4ff0e-f31c-4a94-9cf0-44b31097dfbe"
      },
      "outputs": [
        {
          "name": "stdout",
          "output_type": "stream",
          "text": [
            "[7 8 9]\n"
          ]
        }
      ],
      "source": [
        "import numpy as np\n",
        "# create a numpy array\n",
        "a = np.array([7, 8, 9])\n",
        "print(a)"
      ]
    },
    {
      "cell_type": "code",
      "execution_count": null,
      "metadata": {
        "colab": {
          "base_uri": "https://localhost:8080/",
          "height": 34
        },
        "colab_type": "code",
        "id": "P10FvumGcIaj",
        "outputId": "a804718e-3df8-481c-e959-b8344c3d2834"
      },
      "outputs": [
        {
          "data": {
            "text/plain": [
              "numpy.ndarray"
            ]
          },
          "execution_count": 33,
          "metadata": {
            "tags": []
          },
          "output_type": "execute_result"
        }
      ],
      "source": [
        "# type of numpy array\n",
        "type(a)"
      ]
    },
    {
      "cell_type": "code",
      "execution_count": null,
      "metadata": {
        "colab": {
          "base_uri": "https://localhost:8080/",
          "height": 34
        },
        "colab_type": "code",
        "id": "Znr_dLXMcIal",
        "outputId": "bcaefc26-e2a4-4bbb-9690-d197e6ba5cc3"
      },
      "outputs": [
        {
          "data": {
            "text/plain": [
              "(3,)"
            ]
          },
          "execution_count": 34,
          "metadata": {
            "tags": []
          },
          "output_type": "execute_result"
        }
      ],
      "source": [
        "# the dimensions of the array. This is a tuple of integers indicating the size of the array in each dimension. \n",
        "# for a matrix with n rows and m columns, shape will be (n,m).\n",
        "a.shape"
      ]
    },
    {
      "cell_type": "code",
      "execution_count": null,
      "metadata": {
        "colab": {
          "base_uri": "https://localhost:8080/",
          "height": 34
        },
        "colab_type": "code",
        "id": "pQA6-SdNcIan",
        "outputId": "093c6c5b-b339-46c9-b15a-0a4f4ded4310"
      },
      "outputs": [
        {
          "data": {
            "text/plain": [
              "1"
            ]
          },
          "execution_count": 35,
          "metadata": {
            "tags": []
          },
          "output_type": "execute_result"
        }
      ],
      "source": [
        "# the number of axes (dimensions) of the array\n",
        "a.ndim"
      ]
    },
    {
      "cell_type": "code",
      "execution_count": null,
      "metadata": {
        "colab": {
          "base_uri": "https://localhost:8080/",
          "height": 34
        },
        "colab_type": "code",
        "id": "Ws1nj70KcIao",
        "outputId": "3ed70b71-2935-4644-ed1a-d1d7cd8ff85d"
      },
      "outputs": [
        {
          "data": {
            "text/plain": [
              "'int64'"
            ]
          },
          "execution_count": 36,
          "metadata": {
            "tags": []
          },
          "output_type": "execute_result"
        }
      ],
      "source": [
        "# the name of the type of the elements in the array\n",
        "a.dtype.name"
      ]
    },
    {
      "cell_type": "code",
      "execution_count": null,
      "metadata": {
        "colab": {
          "base_uri": "https://localhost:8080/",
          "height": 34
        },
        "colab_type": "code",
        "id": "qbcrUdtVcIar",
        "outputId": "7d86cba3-6081-4437-8bff-b9ff974594a4"
      },
      "outputs": [
        {
          "data": {
            "text/plain": [
              "8"
            ]
          },
          "execution_count": 37,
          "metadata": {
            "tags": []
          },
          "output_type": "execute_result"
        }
      ],
      "source": [
        "# the size in bytes of each element of the array\n",
        "a.itemsize"
      ]
    },
    {
      "cell_type": "code",
      "execution_count": null,
      "metadata": {
        "colab": {
          "base_uri": "https://localhost:8080/",
          "height": 34
        },
        "colab_type": "code",
        "id": "NIbkAGP8cIas",
        "outputId": "3ee3b62d-c641-45f2-c40e-b507696210f2"
      },
      "outputs": [
        {
          "data": {
            "text/plain": [
              "3"
            ]
          },
          "execution_count": 38,
          "metadata": {
            "tags": []
          },
          "output_type": "execute_result"
        }
      ],
      "source": [
        "# the total number of elements of the array\n",
        "a.size"
      ]
    },
    {
      "cell_type": "markdown",
      "metadata": {
        "colab_type": "text",
        "id": "tmPvjiCAcIau"
      },
      "source": [
        "#### Basic Operations: \n",
        "\n",
        "**1. create a numpy array:**\n",
        "*   **arange(m,n)**: A one dimensional array starting from m, ending in n-1\n",
        "*   **array()**: Create an array from a list\n",
        "\n",
        "\n",
        "   \n",
        "**2. mathematical operations:** Use +, -, *, just as you do for operations of numbers\n",
        "\n",
        "**3. element-wise product:** A*B\n",
        "\n",
        "**4. matrix product:** A.dot(B) or A@B\n",
        "\n",
        "See below examples."
      ]
    },
    {
      "cell_type": "code",
      "execution_count": null,
      "metadata": {
        "colab": {
          "base_uri": "https://localhost:8080/",
          "height": 34
        },
        "colab_type": "code",
        "id": "y9xlAq2scIav",
        "outputId": "71714bea-6417-4a93-f41f-1cc904f37676"
      },
      "outputs": [
        {
          "name": "stdout",
          "output_type": "stream",
          "text": [
            "[2 3 4 5]\n"
          ]
        }
      ],
      "source": [
        "# Create a new numpy array.\n",
        "a = np.array( [5,20,50,60] )  # create a numpy array from a list\n",
        "b = np.arange(2, 6)  # arange(m,n): set a range starting from m (2 in this case), ending with n-1 (6-1 in this case) \n",
        "print(b)"
      ]
    },
    {
      "cell_type": "code",
      "execution_count": null,
      "metadata": {
        "colab": {
          "base_uri": "https://localhost:8080/",
          "height": 34
        },
        "colab_type": "code",
        "id": "9755JfB0cIa2",
        "outputId": "40949900-dd20-4392-ae49-f7f5583b4e74"
      },
      "outputs": [
        {
          "name": "stdout",
          "output_type": "stream",
          "text": [
            "[ 3 17 46 55]\n"
          ]
        }
      ],
      "source": [
        "# minus when two numpy arrays have the same dimension\n",
        "c = a-b \n",
        "print(c)"
      ]
    },
    {
      "cell_type": "code",
      "execution_count": null,
      "metadata": {
        "colab": {
          "base_uri": "https://localhost:8080/",
          "height": 34
        },
        "colab_type": "code",
        "id": "LHfDY-RpcIa5",
        "outputId": "029f5d11-ca08-4ff4-c5d9-5590f2e1485b"
      },
      "outputs": [
        {
          "data": {
            "text/plain": [
              "array([ 4,  9, 16, 25])"
            ]
          },
          "execution_count": 41,
          "metadata": {
            "tags": []
          },
          "output_type": "execute_result"
        }
      ],
      "source": [
        "# take the square of each element in the array\n",
        "b**2"
      ]
    },
    {
      "cell_type": "code",
      "execution_count": null,
      "metadata": {
        "colab": {
          "base_uri": "https://localhost:8080/",
          "height": 51
        },
        "colab_type": "code",
        "id": "gqDKlLiccIa7",
        "outputId": "9a22ed24-3bbf-4363-a96f-8023f2dd2527"
      },
      "outputs": [
        {
          "name": "stdout",
          "output_type": "stream",
          "text": [
            "[-0.95892427  0.91294525 -0.26237485 -0.30481062]\n",
            "[-9.58924275  9.12945251 -2.62374854 -3.04810621]\n"
          ]
        }
      ],
      "source": [
        "# product\n",
        "\n",
        "10*np.sin(a) # take the sin() of each element in the array and then time each by 10\n",
        "print(np.sin(a))\n",
        "print(10*np.sin(a))"
      ]
    },
    {
      "cell_type": "code",
      "execution_count": null,
      "metadata": {
        "colab": {
          "base_uri": "https://localhost:8080/",
          "height": 34
        },
        "colab_type": "code",
        "id": "24GW-26PcIa9",
        "outputId": "c2a7bbdd-577c-4fd9-f513-fed63f830d51"
      },
      "outputs": [
        {
          "data": {
            "text/plain": [
              "array([ True,  True, False, False])"
            ]
          },
          "execution_count": 43,
          "metadata": {
            "tags": []
          },
          "output_type": "execute_result"
        }
      ],
      "source": [
        "# true or false\n",
        "a < 35 # compare each element in a with 35"
      ]
    },
    {
      "cell_type": "markdown",
      "metadata": {
        "colab_type": "text",
        "id": "IRcG9G5RcIa_"
      },
      "source": [
        "Unlike in many matrix languages, the product operator * operates elementwise in NumPy arrays. The matrix product can be performed using the @ operator (in python >=3.5) or the dot function or method.\n",
        "\n",
        "#### Element-wise Product\n",
        "\n",
        "![alt text](http://www.public.asu.edu/~wenwenl1/gis322o/images/dot_product.png)\n",
        "\n"
      ]
    },
    {
      "cell_type": "code",
      "execution_count": null,
      "metadata": {
        "colab": {},
        "colab_type": "code",
        "id": "1YJNMADncIbA"
      },
      "outputs": [],
      "source": [
        "A = np.array( [[1,0],\n",
        "               [1,2]] )\n",
        "B = np.array( [[3,0],\n",
        "               [2,4]] )"
      ]
    },
    {
      "cell_type": "code",
      "execution_count": null,
      "metadata": {
        "colab": {
          "base_uri": "https://localhost:8080/",
          "height": 71
        },
        "colab_type": "code",
        "id": "tnr_sgP7cIbC",
        "outputId": "cf3a30fa-baa3-479c-edb7-fd762075fab1"
      },
      "outputs": [
        {
          "data": {
            "text/plain": [
              "array([[3, 0],\n",
              "       [2, 8]])"
            ]
          },
          "execution_count": 45,
          "metadata": {
            "tags": []
          },
          "output_type": "execute_result"
        }
      ],
      "source": [
        "# elementwise product\n",
        "A * B    "
      ]
    },
    {
      "cell_type": "markdown",
      "metadata": {
        "colab_type": "text",
        "id": "EBQbOFVAbI7R"
      },
      "source": [
        "####Matrix product:\n",
        "\n",
        "\n",
        "![alt text](http://www.public.asu.edu/~wenwenl1/gis322o/images/matrix_product.png)"
      ]
    },
    {
      "cell_type": "code",
      "execution_count": null,
      "metadata": {
        "colab": {
          "base_uri": "https://localhost:8080/",
          "height": 71
        },
        "colab_type": "code",
        "id": "7_MHEL9BcIbF",
        "outputId": "120d6f91-95b5-4948-abf6-d95698309288"
      },
      "outputs": [
        {
          "data": {
            "text/plain": [
              "array([[3, 0],\n",
              "       [7, 8]])"
            ]
          },
          "execution_count": 46,
          "metadata": {
            "tags": []
          },
          "output_type": "execute_result"
        }
      ],
      "source": [
        "# matrix product\n",
        "A @ B"
      ]
    },
    {
      "cell_type": "code",
      "execution_count": null,
      "metadata": {
        "colab": {
          "base_uri": "https://localhost:8080/",
          "height": 71
        },
        "colab_type": "code",
        "id": "t3390T86cIbH",
        "outputId": "aa5933d8-72a6-47a6-f1b6-3b1eb7febbd0"
      },
      "outputs": [
        {
          "data": {
            "text/plain": [
              "array([[3, 0],\n",
              "       [7, 8]])"
            ]
          },
          "execution_count": 47,
          "metadata": {
            "tags": []
          },
          "output_type": "execute_result"
        }
      ],
      "source": [
        "# matrix product, equaivalent to A@B\n",
        "A.dot(B) "
      ]
    },
    {
      "cell_type": "markdown",
      "metadata": {
        "colab_type": "text",
        "id": "42DmkuTGcIbJ"
      },
      "source": [
        "**Create new matrix by defining its dimensions**\n",
        "\n",
        "1. **np.ones((m,n))**: create all one matrix which has dimensions of m rows and n columns\n",
        "\n",
        "2. **np.random.random((m,n))**: randomly generate a matrix which has dimensions of m rows and n columns with values within range of (0,1)\n",
        "\n"
      ]
    },
    {
      "cell_type": "code",
      "execution_count": null,
      "metadata": {
        "colab": {
          "base_uri": "https://localhost:8080/",
          "height": 105
        },
        "colab_type": "code",
        "id": "HOkmJDDwcIbK",
        "outputId": "63ced55a-0a69-44ae-8b5f-9e57c0205a31"
      },
      "outputs": [
        {
          "name": "stdout",
          "output_type": "stream",
          "text": [
            "[[1 1 1]\n",
            " [1 1 1]]\n",
            "[[0.24727571 0.75236665 0.71466207]\n",
            " [0.42313003 0.71832193 0.82616464]]\n"
          ]
        }
      ],
      "source": [
        "a = np.ones((2,3), dtype=int) # create all one matrix which has dimensions of 3 rows and 2 columns\n",
        "b = np.random.random((2,3)) # randomly generate a matrix which has dimensions of 3 rows and 2 columns with values within range of (0,1)\n",
        "\n",
        "print(a)\n",
        "print(b)"
      ]
    },
    {
      "cell_type": "markdown",
      "metadata": {
        "colab_type": "text",
        "id": "m7g2EMvZctJS"
      },
      "source": [
        " **Some operations, such as += and *=, act in place to modify an existing array rather than create a new one.**\n"
      ]
    },
    {
      "cell_type": "code",
      "execution_count": null,
      "metadata": {
        "colab": {
          "base_uri": "https://localhost:8080/",
          "height": 71
        },
        "colab_type": "code",
        "id": "5_Fpos-fcIbN",
        "outputId": "0653bd7b-3eb3-4a20-b30e-68c1c9c50162"
      },
      "outputs": [
        {
          "data": {
            "text/plain": [
              "array([[3, 3, 3],\n",
              "       [3, 3, 3]])"
            ]
          },
          "execution_count": 49,
          "metadata": {
            "tags": []
          },
          "output_type": "execute_result"
        }
      ],
      "source": [
        "a *= 3\n",
        "a"
      ]
    },
    {
      "cell_type": "code",
      "execution_count": null,
      "metadata": {
        "colab": {
          "base_uri": "https://localhost:8080/",
          "height": 71
        },
        "colab_type": "code",
        "id": "x8NNJieJcIbR",
        "outputId": "f7b2fbe1-a7a6-45e8-834b-0211650dc5c3"
      },
      "outputs": [
        {
          "data": {
            "text/plain": [
              "array([[3.24727571, 3.75236665, 3.71466207],\n",
              "       [3.42313003, 3.71832193, 3.82616464]])"
            ]
          },
          "execution_count": 50,
          "metadata": {
            "tags": []
          },
          "output_type": "execute_result"
        }
      ],
      "source": [
        "b += a\n",
        "b"
      ]
    },
    {
      "cell_type": "markdown",
      "metadata": {
        "colab_type": "text",
        "id": "vvpSJKAhcIbY"
      },
      "source": [
        "**Many unary operations, such as computing the sum of all the elements in the array, are implemented as methods of the ndarray class.**\n",
        "\n",
        "**sum()**: get the summation of all elements in the matrix\n",
        "\n",
        "**max()**: get the maximum value within the matrix\n",
        "\n",
        "**min(**): get the minimum value within the matrix"
      ]
    },
    {
      "cell_type": "code",
      "execution_count": null,
      "metadata": {
        "colab": {
          "base_uri": "https://localhost:8080/",
          "height": 173
        },
        "colab_type": "code",
        "id": "yGu2WGFlcIbZ",
        "outputId": "0960a19b-e636-4023-d8d8-391a22a885e5"
      },
      "outputs": [
        {
          "data": {
            "text/plain": [
              "array([[0.73420343, 0.1605008 , 0.60032228, 0.11152883, 0.24944862,\n",
              "        0.4973633 , 0.97107156, 0.6463908 ],\n",
              "       [0.84631694, 0.51870765, 0.39776361, 0.46572152, 0.64839889,\n",
              "        0.22515263, 0.56307653, 0.7420429 ],\n",
              "       [0.45289283, 0.9254114 , 0.26517396, 0.54383345, 0.16235949,\n",
              "        0.55321335, 0.20666192, 0.27571946],\n",
              "       [0.62126558, 0.28421358, 0.29228258, 0.7000863 , 0.89824552,\n",
              "        0.1807362 , 0.45186888, 0.67138041]])"
            ]
          },
          "execution_count": 51,
          "metadata": {
            "tags": []
          },
          "output_type": "execute_result"
        }
      ],
      "source": [
        "a = np.random.random((4,8))\n",
        "a"
      ]
    },
    {
      "cell_type": "code",
      "execution_count": null,
      "metadata": {
        "colab": {
          "base_uri": "https://localhost:8080/",
          "height": 54
        },
        "colab_type": "code",
        "id": "F5huvQHpcIbb",
        "outputId": "e69ab3a4-7285-419f-daec-d55b6c61753b"
      },
      "outputs": [
        {
          "data": {
            "text/plain": [
              "15.863355187810306"
            ]
          },
          "execution_count": 52,
          "metadata": {
            "tags": []
          },
          "output_type": "execute_result"
        }
      ],
      "source": [
        "a.sum()"
      ]
    },
    {
      "cell_type": "code",
      "execution_count": null,
      "metadata": {
        "colab": {
          "base_uri": "https://localhost:8080/",
          "height": 54
        },
        "colab_type": "code",
        "id": "3O0muogycIbe",
        "outputId": "b33cba17-9ad7-45b8-f448-2d6c16ff0d7c"
      },
      "outputs": [
        {
          "data": {
            "text/plain": [
              "0.1115288282234772"
            ]
          },
          "execution_count": 53,
          "metadata": {
            "tags": []
          },
          "output_type": "execute_result"
        }
      ],
      "source": [
        "a.min()"
      ]
    },
    {
      "cell_type": "code",
      "execution_count": null,
      "metadata": {
        "colab": {
          "base_uri": "https://localhost:8080/",
          "height": 54
        },
        "colab_type": "code",
        "id": "ojK8y0HGcIbh",
        "outputId": "e4a576b8-4e51-4cc3-9f0a-c2cbe3927404"
      },
      "outputs": [
        {
          "data": {
            "text/plain": [
              "0.9710715593346371"
            ]
          },
          "execution_count": 54,
          "metadata": {
            "tags": []
          },
          "output_type": "execute_result"
        }
      ],
      "source": [
        "a.max()"
      ]
    },
    {
      "cell_type": "markdown",
      "metadata": {
        "colab_type": "text",
        "id": "FMbYiZ5ncIbk"
      },
      "source": [
        "**By default, these operations apply to the array as though it were a list of numbers, regardless of its shape. However, by specifying the axis parameter you can apply an operation along the specified axis of an array:**"
      ]
    },
    {
      "cell_type": "code",
      "execution_count": null,
      "metadata": {
        "colab": {
          "base_uri": "https://localhost:8080/",
          "height": 88
        },
        "colab_type": "code",
        "id": "N67WMV8CcIbl",
        "outputId": "99fff395-72c6-4220-8035-83c72807385d"
      },
      "outputs": [
        {
          "data": {
            "text/plain": [
              "array([[ 0,  1,  2,  3],\n",
              "       [ 4,  5,  6,  7],\n",
              "       [ 8,  9, 10, 11]])"
            ]
          },
          "execution_count": 55,
          "metadata": {
            "tags": []
          },
          "output_type": "execute_result"
        }
      ],
      "source": [
        "b = np.arange(12).reshape(3,4) # reshape the one dimensional array a matrix with three rows and four columns\n",
        "b"
      ]
    },
    {
      "cell_type": "code",
      "execution_count": null,
      "metadata": {
        "colab": {
          "base_uri": "https://localhost:8080/",
          "height": 54
        },
        "colab_type": "code",
        "id": "m60GONTicIbo",
        "outputId": "5dbe8b2b-1b65-497e-a1f8-0c3feb3def79"
      },
      "outputs": [
        {
          "data": {
            "text/plain": [
              "array([12, 15, 18, 21])"
            ]
          },
          "execution_count": 56,
          "metadata": {
            "tags": []
          },
          "output_type": "execute_result"
        }
      ],
      "source": [
        "# sum of each column\n",
        "b.sum(axis=0)"
      ]
    },
    {
      "cell_type": "code",
      "execution_count": null,
      "metadata": {
        "colab": {
          "base_uri": "https://localhost:8080/",
          "height": 54
        },
        "colab_type": "code",
        "id": "nhpHUGPAcIbq",
        "outputId": "fa57bc8e-7a9c-4cd6-f076-7952ea022e29"
      },
      "outputs": [
        {
          "data": {
            "text/plain": [
              "array([0, 4, 8])"
            ]
          },
          "execution_count": 57,
          "metadata": {
            "tags": []
          },
          "output_type": "execute_result"
        }
      ],
      "source": [
        "# min of each row\n",
        "b.min(axis=1) "
      ]
    },
    {
      "cell_type": "code",
      "execution_count": null,
      "metadata": {
        "colab": {
          "base_uri": "https://localhost:8080/",
          "height": 88
        },
        "colab_type": "code",
        "id": "VVRF5fZ8cIbt",
        "outputId": "1da7b34d-e358-432e-9098-bd99504a6fb4"
      },
      "outputs": [
        {
          "data": {
            "text/plain": [
              "array([[ 0,  1,  3,  6],\n",
              "       [ 4,  9, 15, 22],\n",
              "       [ 8, 17, 27, 38]])"
            ]
          },
          "execution_count": 58,
          "metadata": {
            "tags": []
          },
          "output_type": "execute_result"
        }
      ],
      "source": [
        "# cumulative sum along each row\n",
        "b.cumsum(axis=1)  "
      ]
    },
    {
      "cell_type": "markdown",
      "metadata": {
        "colab_type": "text",
        "id": "mf1bFgQbcIbv"
      },
      "source": [
        "## 2. read data from a file"
      ]
    },
    {
      "cell_type": "markdown",
      "metadata": {
        "colab_type": "text",
        "id": "SD9SMHF1cIbw"
      },
      "source": [
        "Often you may need to read a file containing numerical data in Python . One of the options is to import the file/data in Python is Python’s NumPy library. \n",
        "\n",
        "There are number of advantages to use NumPy. NumPy is designed to deal with numerical data, it is fast and it has loads of built-in functions that allow us to import and analyze the data easily. Let us see how to use NumPy to read numerical data file."
      ]
    },
    {
      "cell_type": "markdown",
      "metadata": {
        "colab_type": "text",
        "id": "RJGCQmCdcIbx"
      },
      "source": [
        "### Load NumPy library"
      ]
    },
    {
      "cell_type": "code",
      "execution_count": null,
      "metadata": {
        "colab": {},
        "colab_type": "code",
        "id": "u8bnUKSucIbx"
      },
      "outputs": [],
      "source": [
        "# import necessary library\n",
        "import numpy as np    # import numpy library as np\n",
        " \n",
        "# numerical data file\n",
        "filename=\"travelTimes_example_2019.txt\""
      ]
    },
    {
      "cell_type": "markdown",
      "metadata": {
        "colab_type": "text",
        "id": "-dUsmA82cIbz"
      },
      "source": [
        "### Load a csv file with NumPy"
      ]
    },
    {
      "cell_type": "markdown",
      "metadata": {
        "colab_type": "text",
        "id": "RMAR3zmecIbz"
      },
      "source": [
        "NumpPy’s loadtxt() function allows us to read numerical data file in text format in to Python. To load a CSV (Comma Separated Values) file, we specify delimitter to “,”."
      ]
    },
    {
      "cell_type": "markdown",
      "metadata": {
        "colab_type": "text",
        "id": "uK6LNrG9cIb0"
      },
      "source": [
        "### Load a csv file with NumPy and skip a row"
      ]
    },
    {
      "cell_type": "markdown",
      "metadata": {
        "colab_type": "text",
        "id": "j2cDPInLcIb1"
      },
      "source": [
        "NumPy’s loadtxt() function offers numerous options to load the data. For example,\n",
        "if the data has header information in the first line of the file and if we want to ignore that we can use “skiprows” option.\n",
        "\n",
        "By specifying “skiprows=1” while loading the numerical data, we will skip  the first line of the file. By specifying different “skiprows”, we can skip multiple lines of a file."
      ]
    },
    {
      "cell_type": "code",
      "execution_count": null,
      "metadata": {
        "colab": {},
        "colab_type": "code",
        "id": "2sbkBNOJcIb1"
      },
      "outputs": [],
      "source": [
        "# use skiprows to skip rows\n",
        "# data = np.loadtxt(filename, delimiter=\",\", skiprows=1)"
      ]
    },
    {
      "cell_type": "markdown",
      "metadata": {
        "colab_type": "text",
        "id": "HGrHfNnYcIb3"
      },
      "source": [
        "### Load a csv file with NumPy, skip a row and select columns"
      ]
    },
    {
      "cell_type": "markdown",
      "metadata": {
        "colab_type": "text",
        "id": "M-dfbBQJcIb4"
      },
      "source": [
        "If we want to load/read jusa few columns of of the data file, we can use “usecols” option and specify the column indices that we want to load. Which means, it's possible to choose the columns by index. For example, to load 1st, 2nd, and 5th column we use:"
      ]
    },
    {
      "cell_type": "code",
      "execution_count": null,
      "metadata": {
        "colab": {},
        "colab_type": "code",
        "id": "XNmnCk1-cIb4"
      },
      "outputs": [],
      "source": [
        "# usecols select columns\n",
        "# data = np.loadtxt(filename, delimiter=\",\", skiprows=1, \n",
        "#                   usecols=[0,1,4])"
      ]
    },
    {
      "cell_type": "markdown",
      "metadata": {
        "colab_type": "text",
        "id": "Os9vEaaucIb8"
      },
      "source": [
        "### Now let's try to read the text file provided for exercise"
      ]
    },
    {
      "cell_type": "code",
      "execution_count": null,
      "metadata": {
        "colab": {
          "base_uri": "https://localhost:8080/",
          "height": 697
        },
        "colab_type": "code",
        "id": "J5GTdqlqcIck",
        "outputId": "21c042bd-bcb3-4204-a986-2e793b1fe421"
      },
      "outputs": [
        {
          "data": {
            "text/plain": [
              "array([[ 33.,  11.,  44.,  38., 125.],\n",
              "       [ 71.,  24.,  17.,  49., 123.],\n",
              "       [ 52.,  52.,  69.,  48., 125.],\n",
              "       [ 68.,  48.,  67.,  34., 129.],\n",
              "       [ 11.,  76.,  43.,  24., 118.],\n",
              "       [ 28.,  36.,  84.,  53., 119.],\n",
              "       [ 49.,  19.,  30.,  48., 123.],\n",
              "       [ 47.,  56.,  20.,  28., 129.],\n",
              "       [ 66.,  78.,  71.,  43., 125.],\n",
              "       [ 64.,  49.,  32.,  89., 129.],\n",
              "       [ 51.,  23.,  61.,  16., 173.],\n",
              "       [ 28.,  37.,  82.,  67.,  86.],\n",
              "       [ 90.,  41.,  65.,  58.,  90.],\n",
              "       [ 37.,  84.,  50.,  48.,  92.],\n",
              "       [ 20.,  35.,  46.,  58., 122.],\n",
              "       [ 41.,  77.,  57.,  49., 122.],\n",
              "       [ 31.,  36.,  16.,  57., 122.],\n",
              "       [ 40.,  80.,  14.,  45., 123.],\n",
              "       [ 40.,  57.,  22.,  21., 124.],\n",
              "       [ 25.,  17.,  76.,  22., 126.],\n",
              "       [ 85.,  31.,  64.,  22., 171.],\n",
              "       [ 56.,  70.,  14.,  23.,  94.],\n",
              "       [ 27.,  25.,  55.,  44.,  90.],\n",
              "       [ 41.,  31.,  76.,  54.,  87.],\n",
              "       [ 86.,  74.,  71.,  45.,  87.],\n",
              "       [ 52.,  62.,  50.,  23.,  89.],\n",
              "       [ 21.,  90.,  69.,  55., 121.],\n",
              "       [ 42.,  87.,  61.,  52., 118.],\n",
              "       [ 31.,  12.,  81.,  34., 119.],\n",
              "       [ 79.,  50.,  80.,  65., 124.],\n",
              "       [ 67.,  61.,  85.,  83., 128.],\n",
              "       [ 36.,  68.,  25.,  27., 171.],\n",
              "       [ 88.,  60.,  60.,  13.,  99.],\n",
              "       [ 70.,  14.,  18.,  78.,  95.],\n",
              "       [ 85.,  78.,  12.,  15.,  95.],\n",
              "       [ 39.,  64.,  50.,  63.,  85.],\n",
              "       [ 90.,  57.,  11.,  43.,  83.],\n",
              "       [ 70.,  23.,  78.,  86.,  84.],\n",
              "       [ 84.,  29.,  66.,  43., 114.],\n",
              "       [ 47.,  45.,  69.,  29., 115.]])"
            ]
          },
          "execution_count": 62,
          "metadata": {
            "tags": []
          },
          "output_type": "execute_result"
        }
      ],
      "source": [
        "# load the data with NumPy function \"loadtxt\"\n",
        "# Before running this statement, you need to upload the file \"travelTimes_2015_Helsinki.txt\" to your google colab\n",
        "# See tutorial in Module 0\n",
        "data = np.loadtxt(\"travelTimes_example_2019.txt\", delimiter=';',skiprows=1, usecols=[5,6,7,8,9])\n",
        "data    # check the input "
      ]
    },
    {
      "cell_type": "code",
      "execution_count": null,
      "metadata": {
        "colab": {
          "base_uri": "https://localhost:8080/",
          "height": 34
        },
        "colab_type": "code",
        "id": "pEXShl_13mg1",
        "outputId": "4e33e8dd-3377-44c5-a45a-f48b274bae41"
      },
      "outputs": [
        {
          "name": "stdout",
          "output_type": "stream",
          "text": [
            "(40, 5)\n"
          ]
        }
      ],
      "source": [
        "#Use .shape to check data dimensions\n",
        "print(data.shape)"
      ]
    },
    {
      "cell_type": "code",
      "execution_count": null,
      "metadata": {
        "colab": {},
        "colab_type": "code",
        "id": "9GymG7Bl32Ga"
      },
      "outputs": [],
      "source": []
    }
  ],
  "metadata": {
    "colab": {
      "collapsed_sections": [
        "IRcG9G5RcIa_",
        "EBQbOFVAbI7R"
      ],
      "include_colab_link": true,
      "name": "01_Module01c_numpy.ipynb",
      "provenance": [],
      "toc_visible": true
    },
    "kernelspec": {
      "display_name": "Python 3.10.8 64-bit",
      "language": "python",
      "name": "python3"
    },
    "language_info": {
      "codemirror_mode": {
        "name": "ipython",
        "version": 3
      },
      "file_extension": ".py",
      "mimetype": "text/x-python",
      "name": "python",
      "nbconvert_exporter": "python",
      "pygments_lexer": "ipython3",
      "version": "3.10.8"
    },
    "vscode": {
      "interpreter": {
        "hash": "b0fa6594d8f4cbf19f97940f81e996739fb7646882a419484c72d19e05852a7e"
      }
    }
  },
  "nbformat": 4,
  "nbformat_minor": 0
}
