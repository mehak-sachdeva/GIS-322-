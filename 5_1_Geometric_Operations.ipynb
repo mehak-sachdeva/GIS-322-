{
  "nbformat": 4,
  "nbformat_minor": 0,
  "metadata": {
    "kernelspec": {
      "display_name": "Python [conda root]",
      "language": "python",
      "name": "conda-root-py"
    },
    "language_info": {
      "codemirror_mode": {
        "name": "ipython",
        "version": 3
      },
      "file_extension": ".py",
      "mimetype": "text/x-python",
      "name": "python",
      "nbconvert_exporter": "python",
      "pygments_lexer": "ipython3",
      "version": "3.5.4"
    },
    "colab": {
      "name": "5.1 Geometric Operations.ipynb",
      "provenance": [],
      "include_colab_link": true
    }
  },
  "cells": [
    {
      "cell_type": "markdown",
      "metadata": {
        "id": "view-in-github",
        "colab_type": "text"
      },
      "source": [
        "<a href=\"https://colab.research.google.com/github/mehak-sachdeva/GIS-322/blob/main/5_1_Geometric_Operations.ipynb\" target=\"_parent\"><img src=\"https://colab.research.google.com/assets/colab-badge.svg\" alt=\"Open In Colab\"/></a>"
      ]
    },
    {
      "cell_type": "markdown",
      "metadata": {
        "id": "XlXc-4LXo5hh",
        "colab_type": "text"
      },
      "source": [
        "# 5.1 Geometric Operations\n",
        "\n",
        "<br></br>\n",
        "`geopandas` makes available all the tools for geometric manipulations in the `shapely` library.\n",
        "\n",
        "<br></br>\n",
        "\n",
        "Here is a list of supported geometric operations in `geopandas`, most of them can be used on aGeoDataFrame or GeoSeries.\n",
        "\n",
        "\n",
        "* GeoSeries.buffer(distance): Create a buffer to the shape (point, line, polygon)\n",
        "* GeoSeries.centroid: Calculate the geometric centroid of a shape\n",
        "* GeoSeries.area: Calculate the area of a shape\n",
        "* GeoSeries.length: Calculate the length a shape"
      ]
    },
    {
      "cell_type": "code",
      "metadata": {
        "id": "faKNcZXOo5hm",
        "colab_type": "code",
        "colab": {}
      },
      "source": [
        "!pip install geopandas\n",
        "import geopandas as gpd\n",
        "import matplotlib.pyplot as plt\n",
        "%matplotlib inline"
      ],
      "execution_count": 0,
      "outputs": []
    },
    {
      "cell_type": "markdown",
      "metadata": {
        "id": "5VLDmpBzo5hy",
        "colab_type": "text"
      },
      "source": [
        "<br></br>\n",
        "Let's play around with those methods using the US lower 48 states example."
      ]
    },
    {
      "cell_type": "code",
      "metadata": {
        "id": "HLTgoCowo5h0",
        "colab_type": "code",
        "colab": {}
      },
      "source": [
        "states = gpd.read_file(\"US_lower_48.shp\")"
      ],
      "execution_count": 0,
      "outputs": []
    },
    {
      "cell_type": "code",
      "metadata": {
        "id": "jqh1f96Io5h9",
        "colab_type": "code",
        "colab": {
          "base_uri": "https://localhost:8080/",
          "height": 213
        },
        "outputId": "a2ee7765-2e54-4ff0-f406-a687bc631f87"
      },
      "source": [
        "states.plot()"
      ],
      "execution_count": 3,
      "outputs": [
        {
          "output_type": "execute_result",
          "data": {
            "text/plain": [
              "<matplotlib.axes._subplots.AxesSubplot at 0x7ffb2d964b00>"
            ]
          },
          "metadata": {
            "tags": []
          },
          "execution_count": 3
        },
        {
          "output_type": "display_data",
          "data": {
            "image/png": "[encoded data removed]",
            "text/plain": [
              "<Figure size 432x288 with 1 Axes>"
            ]
          },
          "metadata": {
            "tags": []
          }
        }
      ]
    },
    {
      "cell_type": "markdown",
      "metadata": {
        "id": "FavAOiVTo5iE",
        "colab_type": "text"
      },
      "source": [
        "<br></br>\n",
        "First of all, let's calculate the centroid of each state."
      ]
    },
    {
      "cell_type": "code",
      "metadata": {
        "id": "rPprMaqZo5iG",
        "colab_type": "code",
        "colab": {
          "base_uri": "https://localhost:8080/",
          "height": 850
        },
        "outputId": "765c6b6a-0e98-47fc-efbd-a019a2b68bc0"
      },
      "source": [
        "states.centroid"
      ],
      "execution_count": 4,
      "outputs": [
        {
          "output_type": "execute_result",
          "data": {
            "text/plain": [
              "0      POINT (-80.61371 38.64257)\n",
              "1      POINT (-82.46642 28.47706)\n",
              "2      POINT (-89.14864 40.12420)\n",
              "3      POINT (-94.19834 46.34927)\n",
              "4      POINT (-76.68718 38.94649)\n",
              "5     POINT (-114.65941 44.38906)\n",
              "6      POINT (-71.57124 43.68024)\n",
              "7      POINT (-79.13089 35.52604)\n",
              "8      POINT (-72.66263 44.07525)\n",
              "9      POINT (-72.73826 41.57516)\n",
              "10     POINT (-75.45249 38.99497)\n",
              "11    POINT (-106.10844 34.42130)\n",
              "12    POINT (-119.66385 37.21531)\n",
              "13     POINT (-74.65561 40.11018)\n",
              "14     POINT (-89.73293 44.63994)\n",
              "15    POINT (-120.60526 43.94045)\n",
              "16     POINT (-99.81086 41.52715)\n",
              "17     POINT (-77.83894 40.89670)\n",
              "18    POINT (-120.59290 47.41164)\n",
              "19     POINT (-91.81423 30.90907)\n",
              "20     POINT (-83.42725 32.63864)\n",
              "21     POINT (-86.84452 32.75688)\n",
              "22    POINT (-111.67825 39.32377)\n",
              "23     POINT (-82.70938 40.41549)\n",
              "24     POINT (-99.31712 31.44721)\n",
              "25    POINT (-105.54782 38.99853)\n",
              "26     POINT (-80.86458 33.87774)\n",
              "27     POINT (-97.50823 35.58346)\n",
              "28     POINT (-86.34341 35.84298)\n",
              "29    POINT (-107.55140 42.99954)\n",
              "30    POINT (-100.46939 47.44631)\n",
              "31     POINT (-85.29056 37.52661)\n",
              "32     POINT (-69.20276 45.27433)\n",
              "33     POINT (-75.59654 42.92123)\n",
              "34    POINT (-116.65525 39.35619)\n",
              "35     POINT (-85.73095 44.87477)\n",
              "36     POINT (-92.43924 34.89977)\n",
              "37     POINT (-89.65336 32.71289)\n",
              "38     POINT (-92.47743 38.36763)\n",
              "39    POINT (-109.64521 47.03342)\n",
              "40     POINT (-98.38016 38.48473)\n",
              "41     POINT (-86.28184 39.91987)\n",
              "42    POINT (-100.23046 44.43613)\n",
              "43     POINT (-71.50397 42.16009)\n",
              "44     POINT (-78.66636 37.51087)\n",
              "45     POINT (-77.01630 38.90477)\n",
              "46     POINT (-93.50009 42.07465)\n",
              "47    POINT (-111.66446 34.29310)\n",
              "dtype: geometry"
            ]
          },
          "metadata": {
            "tags": []
          },
          "execution_count": 4
        }
      ]
    },
    {
      "cell_type": "code",
      "metadata": {
        "id": "mgo1cbD3o5iL",
        "colab_type": "code",
        "colab": {
          "base_uri": "https://localhost:8080/",
          "height": 192
        },
        "outputId": "f66eb7b1-db9c-453f-a3bb-988ab3979aea"
      },
      "source": [
        "states.centroid.plot()"
      ],
      "execution_count": 5,
      "outputs": [
        {
          "output_type": "execute_result",
          "data": {
            "text/plain": [
              "<matplotlib.axes._subplots.AxesSubplot at 0x7ffb2d8e3c88>"
            ]
          },
          "metadata": {
            "tags": []
          },
          "execution_count": 5
        },
        {
          "output_type": "display_data",
          "data": {
            "image/png": "[encoded data removed]",
            "text/plain": [
              "<Figure size 432x288 with 1 Axes>"
            ]
          },
          "metadata": {
            "tags": []
          }
        }
      ]
    },
    {
      "cell_type": "markdown",
      "metadata": {
        "id": "IFrAPbTHo5iP",
        "colab_type": "text"
      },
      "source": [
        "<br></br>\n",
        "Overlay state centroids with the state polygons."
      ]
    },
    {
      "cell_type": "code",
      "metadata": {
        "id": "9RLcZzbPo5iQ",
        "colab_type": "code",
        "colab": {
          "base_uri": "https://localhost:8080/",
          "height": 309
        },
        "outputId": "9c1d1f3c-1943-42c5-f80f-a04a1e18d2cd"
      },
      "source": [
        "fig, ax = plt.subplots(1, 1,figsize=(10,8))\n",
        "states.plot(ax=ax)\n",
        "states.centroid.plot(ax=ax,color=\"red\")"
      ],
      "execution_count": 6,
      "outputs": [
        {
          "output_type": "execute_result",
          "data": {
            "text/plain": [
              "<matplotlib.axes._subplots.AxesSubplot at 0x7ffb2d8f96a0>"
            ]
          },
          "metadata": {
            "tags": []
          },
          "execution_count": 6
        },
        {
          "output_type": "display_data",
          "data": {
            "image/png": "[encoded data removed]",
            "text/plain": [
              "<Figure size 720x576 with 1 Axes>"
            ]
          },
          "metadata": {
            "tags": []
          }
        }
      ]
    },
    {
      "cell_type": "markdown",
      "metadata": {
        "id": "poS4_-lmo5iT",
        "colab_type": "text"
      },
      "source": [
        "<br></br>\n",
        "Then, let's create a buffer to each of the centroid. Before we do that, one important step is to check the projection. If you remember, this one is not projected."
      ]
    },
    {
      "cell_type": "code",
      "metadata": {
        "id": "CnUUKf2Wo5iU",
        "colab_type": "code",
        "colab": {
          "base_uri": "https://localhost:8080/",
          "height": 34
        },
        "outputId": "381db989-ef76-477f-9057-297b9fc7dffc"
      },
      "source": [
        "states.crs"
      ],
      "execution_count": 7,
      "outputs": [
        {
          "output_type": "execute_result",
          "data": {
            "text/plain": [
              "{'init': 'epsg:4269'}"
            ]
          },
          "metadata": {
            "tags": []
          },
          "execution_count": 7
        }
      ]
    },
    {
      "cell_type": "code",
      "metadata": {
        "id": "VoZqIBKXo5iW",
        "colab_type": "code",
        "colab": {}
      },
      "source": [
        "states_projected = states.to_crs(epsg='3857')"
      ],
      "execution_count": 0,
      "outputs": []
    },
    {
      "cell_type": "markdown",
      "metadata": {
        "id": "fQSO91lGo5iY",
        "colab_type": "text"
      },
      "source": [
        "<br></br>\n",
        "Project it to mercator, so the the buffering distance will be in the unit of meters rather than arc-degree."
      ]
    },
    {
      "cell_type": "code",
      "metadata": {
        "id": "iliPZ-ZYo5iY",
        "colab_type": "code",
        "colab": {}
      },
      "source": [
        "buffers = states_projected.centroid.buffer(distance=200000) #This is a 200 kilometer buffer"
      ],
      "execution_count": 0,
      "outputs": []
    },
    {
      "cell_type": "code",
      "metadata": {
        "id": "HHf_QRy5o5ia",
        "colab_type": "code",
        "colab": {
          "base_uri": "https://localhost:8080/",
          "height": 387
        },
        "outputId": "97e88f97-afd8-42dc-d3c0-b9a38dfce300"
      },
      "source": [
        "fig, ax = plt.subplots(1, 1,figsize=(10,8))\n",
        "states_projected.plot(ax=ax)\n",
        "buffers.plot(ax=ax,color=\"green\")\n",
        "states_projected.centroid.plot(ax=ax,color=\"red\")"
      ],
      "execution_count": 10,
      "outputs": [
        {
          "output_type": "execute_result",
          "data": {
            "text/plain": [
              "<matplotlib.axes._subplots.AxesSubplot at 0x7ffb2d873240>"
            ]
          },
          "metadata": {
            "tags": []
          },
          "execution_count": 10
        },
        {
          "output_type": "display_data",
          "data": {
            "image/png": "[encoded data removed]",
            "text/plain": [
              "<Figure size 720x576 with 1 Axes>"
            ]
          },
          "metadata": {
            "tags": []
          }
        }
      ]
    },
    {
      "cell_type": "markdown",
      "metadata": {
        "id": "VRhxLxE8o5ic",
        "colab_type": "text"
      },
      "source": [
        "\n",
        "<br></br>\n",
        "Then let's calcuate the area and length of each state, and create two new columns in the states GeoDataFrame.\n",
        "\n",
        "\n"
      ]
    },
    {
      "cell_type": "code",
      "metadata": {
        "id": "vnsQcr6ko5id",
        "colab_type": "code",
        "colab": {}
      },
      "source": [
        "states_projected['state_area'] = states_projected.area\n",
        "states_projected['state_length'] = states_projected.length"
      ],
      "execution_count": 0,
      "outputs": []
    },
    {
      "cell_type": "markdown",
      "metadata": {
        "id": "ZvOIBtlIo5ig",
        "colab_type": "text"
      },
      "source": [
        "\n",
        "<br></br>\n",
        "Let's find out which state has the largest area? Have a guess before running the command?\n"
      ]
    },
    {
      "cell_type": "code",
      "metadata": {
        "id": "1i5S4s3Wo5ih",
        "colab_type": "code",
        "colab": {
          "base_uri": "https://localhost:8080/",
          "height": 1000
        },
        "outputId": "b8a204a4-1201-4926-b6b3-e14a9a1aea4c"
      },
      "source": [
        "states_projected.sort_values('state_area', ascending=False)[['NAME','state_area']]"
      ],
      "execution_count": 12,
      "outputs": [
        {
          "output_type": "execute_result",
          "data": {
            "text/html": [
              "<div>\n",
              "<style scoped>\n",
              "    .dataframe tbody tr th:only-of-type {\n",
              "        vertical-align: middle;\n",
              "    }\n",
              "\n",
              "    .dataframe tbody tr th {\n",
              "        vertical-align: top;\n",
              "    }\n",
              "\n",
              "    .dataframe thead th {\n",
              "        text-align: right;\n",
              "    }\n",
              "</style>\n",
              "<table border=\"1\" class=\"dataframe\">\n",
              "  <thead>\n",
              "    <tr style=\"text-align: right;\">\n",
              "      <th></th>\n",
              "      <th>NAME</th>\n",
              "      <th>state_area</th>\n",
              "    </tr>\n",
              "  </thead>\n",
              "  <tbody>\n",
              "    <tr>\n",
              "      <th>24</th>\n",
              "      <td>Texas</td>\n",
              "      <td>9.607227e+11</td>\n",
              "    </tr>\n",
              "    <tr>\n",
              "      <th>39</th>\n",
              "      <td>Montana</td>\n",
              "      <td>8.201831e+11</td>\n",
              "    </tr>\n",
              "    <tr>\n",
              "      <th>12</th>\n",
              "      <td>California</td>\n",
              "      <td>6.718940e+11</td>\n",
              "    </tr>\n",
              "    <tr>\n",
              "      <th>35</th>\n",
              "      <td>Michigan</td>\n",
              "      <td>4.997446e+11</td>\n",
              "    </tr>\n",
              "    <tr>\n",
              "      <th>15</th>\n",
              "      <td>Oregon</td>\n",
              "      <td>4.919326e+11</td>\n",
              "    </tr>\n",
              "    <tr>\n",
              "      <th>34</th>\n",
              "      <td>Nevada</td>\n",
              "      <td>4.802968e+11</td>\n",
              "    </tr>\n",
              "    <tr>\n",
              "      <th>29</th>\n",
              "      <td>Wyoming</td>\n",
              "      <td>4.741973e+11</td>\n",
              "    </tr>\n",
              "    <tr>\n",
              "      <th>3</th>\n",
              "      <td>Minnesota</td>\n",
              "      <td>4.732057e+11</td>\n",
              "    </tr>\n",
              "    <tr>\n",
              "      <th>11</th>\n",
              "      <td>New Mexico</td>\n",
              "      <td>4.644023e+11</td>\n",
              "    </tr>\n",
              "    <tr>\n",
              "      <th>25</th>\n",
              "      <td>Colorado</td>\n",
              "      <td>4.473108e+11</td>\n",
              "    </tr>\n",
              "    <tr>\n",
              "      <th>47</th>\n",
              "      <td>Arizona</td>\n",
              "      <td>4.340643e+11</td>\n",
              "    </tr>\n",
              "    <tr>\n",
              "      <th>5</th>\n",
              "      <td>Idaho</td>\n",
              "      <td>4.246751e+11</td>\n",
              "    </tr>\n",
              "    <tr>\n",
              "      <th>18</th>\n",
              "      <td>Washington</td>\n",
              "      <td>4.032408e+11</td>\n",
              "    </tr>\n",
              "    <tr>\n",
              "      <th>30</th>\n",
              "      <td>North Dakota</td>\n",
              "      <td>4.003531e+11</td>\n",
              "    </tr>\n",
              "    <tr>\n",
              "      <th>42</th>\n",
              "      <td>South Dakota</td>\n",
              "      <td>3.919818e+11</td>\n",
              "    </tr>\n",
              "    <tr>\n",
              "      <th>22</th>\n",
              "      <td>Utah</td>\n",
              "      <td>3.682859e+11</td>\n",
              "    </tr>\n",
              "    <tr>\n",
              "      <th>16</th>\n",
              "      <td>Nebraska</td>\n",
              "      <td>3.578636e+11</td>\n",
              "    </tr>\n",
              "    <tr>\n",
              "      <th>40</th>\n",
              "      <td>Kansas</td>\n",
              "      <td>3.484440e+11</td>\n",
              "    </tr>\n",
              "    <tr>\n",
              "      <th>14</th>\n",
              "      <td>Wisconsin</td>\n",
              "      <td>3.353652e+11</td>\n",
              "    </tr>\n",
              "    <tr>\n",
              "      <th>38</th>\n",
              "      <td>Missouri</td>\n",
              "      <td>2.943632e+11</td>\n",
              "    </tr>\n",
              "    <tr>\n",
              "      <th>27</th>\n",
              "      <td>Oklahoma</td>\n",
              "      <td>2.744188e+11</td>\n",
              "    </tr>\n",
              "    <tr>\n",
              "      <th>46</th>\n",
              "      <td>Iowa</td>\n",
              "      <td>2.648092e+11</td>\n",
              "    </tr>\n",
              "    <tr>\n",
              "      <th>33</th>\n",
              "      <td>New York</td>\n",
              "      <td>2.637690e+11</td>\n",
              "    </tr>\n",
              "    <tr>\n",
              "      <th>2</th>\n",
              "      <td>Illinois</td>\n",
              "      <td>2.570904e+11</td>\n",
              "    </tr>\n",
              "    <tr>\n",
              "      <th>1</th>\n",
              "      <td>Florida</td>\n",
              "      <td>2.215000e+11</td>\n",
              "    </tr>\n",
              "    <tr>\n",
              "      <th>20</th>\n",
              "      <td>Georgia</td>\n",
              "      <td>2.177853e+11</td>\n",
              "    </tr>\n",
              "    <tr>\n",
              "      <th>7</th>\n",
              "      <td>North Carolina</td>\n",
              "      <td>2.109424e+11</td>\n",
              "    </tr>\n",
              "    <tr>\n",
              "      <th>17</th>\n",
              "      <td>Pennsylvania</td>\n",
              "      <td>2.090129e+11</td>\n",
              "    </tr>\n",
              "    <tr>\n",
              "      <th>36</th>\n",
              "      <td>Arkansas</td>\n",
              "      <td>2.053260e+11</td>\n",
              "    </tr>\n",
              "    <tr>\n",
              "      <th>23</th>\n",
              "      <td>Ohio</td>\n",
              "      <td>2.005834e+11</td>\n",
              "    </tr>\n",
              "    <tr>\n",
              "      <th>21</th>\n",
              "      <td>Alabama</td>\n",
              "      <td>1.926308e+11</td>\n",
              "    </tr>\n",
              "    <tr>\n",
              "      <th>32</th>\n",
              "      <td>Maine</td>\n",
              "      <td>1.851445e+11</td>\n",
              "    </tr>\n",
              "    <tr>\n",
              "      <th>19</th>\n",
              "      <td>Louisiana</td>\n",
              "      <td>1.849586e+11</td>\n",
              "    </tr>\n",
              "    <tr>\n",
              "      <th>37</th>\n",
              "      <td>Mississippi</td>\n",
              "      <td>1.778440e+11</td>\n",
              "    </tr>\n",
              "    <tr>\n",
              "      <th>44</th>\n",
              "      <td>Virginia</td>\n",
              "      <td>1.764152e+11</td>\n",
              "    </tr>\n",
              "    <tr>\n",
              "      <th>31</th>\n",
              "      <td>Kentucky</td>\n",
              "      <td>1.667121e+11</td>\n",
              "    </tr>\n",
              "    <tr>\n",
              "      <th>28</th>\n",
              "      <td>Tennessee</td>\n",
              "      <td>1.664790e+11</td>\n",
              "    </tr>\n",
              "    <tr>\n",
              "      <th>41</th>\n",
              "      <td>Indiana</td>\n",
              "      <td>1.606546e+11</td>\n",
              "    </tr>\n",
              "    <tr>\n",
              "      <th>26</th>\n",
              "      <td>South Carolina</td>\n",
              "      <td>1.206649e+11</td>\n",
              "    </tr>\n",
              "    <tr>\n",
              "      <th>0</th>\n",
              "      <td>West Virginia</td>\n",
              "      <td>1.030459e+11</td>\n",
              "    </tr>\n",
              "    <tr>\n",
              "      <th>4</th>\n",
              "      <td>Maryland</td>\n",
              "      <td>5.320401e+10</td>\n",
              "    </tr>\n",
              "    <tr>\n",
              "      <th>43</th>\n",
              "      <td>Massachusetts</td>\n",
              "      <td>4.978455e+10</td>\n",
              "    </tr>\n",
              "    <tr>\n",
              "      <th>8</th>\n",
              "      <td>Vermont</td>\n",
              "      <td>4.827445e+10</td>\n",
              "    </tr>\n",
              "    <tr>\n",
              "      <th>6</th>\n",
              "      <td>New Hampshire</td>\n",
              "      <td>4.632641e+10</td>\n",
              "    </tr>\n",
              "    <tr>\n",
              "      <th>13</th>\n",
              "      <td>New Jersey</td>\n",
              "      <td>3.867718e+10</td>\n",
              "    </tr>\n",
              "    <tr>\n",
              "      <th>9</th>\n",
              "      <td>Connecticut</td>\n",
              "      <td>2.567823e+10</td>\n",
              "    </tr>\n",
              "    <tr>\n",
              "      <th>10</th>\n",
              "      <td>Delaware</td>\n",
              "      <td>1.068708e+10</td>\n",
              "    </tr>\n",
              "    <tr>\n",
              "      <th>45</th>\n",
              "      <td>District of Columbia</td>\n",
              "      <td>2.927452e+08</td>\n",
              "    </tr>\n",
              "  </tbody>\n",
              "</table>\n",
              "</div>"
            ],
            "text/plain": [
              "                    NAME    state_area\n",
              "24                 Texas  9.607227e+11\n",
              "39               Montana  8.201831e+11\n",
              "12            California  6.718940e+11\n",
              "35              Michigan  4.997446e+11\n",
              "15                Oregon  4.919326e+11\n",
              "34                Nevada  4.802968e+11\n",
              "29               Wyoming  4.741973e+11\n",
              "3              Minnesota  4.732057e+11\n",
              "11            New Mexico  4.644023e+11\n",
              "25              Colorado  4.473108e+11\n",
              "47               Arizona  4.340643e+11\n",
              "5                  Idaho  4.246751e+11\n",
              "18            Washington  4.032408e+11\n",
              "30          North Dakota  4.003531e+11\n",
              "42          South Dakota  3.919818e+11\n",
              "22                  Utah  3.682859e+11\n",
              "16              Nebraska  3.578636e+11\n",
              "40                Kansas  3.484440e+11\n",
              "14             Wisconsin  3.353652e+11\n",
              "38              Missouri  2.943632e+11\n",
              "27              Oklahoma  2.744188e+11\n",
              "46                  Iowa  2.648092e+11\n",
              "33              New York  2.637690e+11\n",
              "2               Illinois  2.570904e+11\n",
              "1                Florida  2.215000e+11\n",
              "20               Georgia  2.177853e+11\n",
              "7         North Carolina  2.109424e+11\n",
              "17          Pennsylvania  2.090129e+11\n",
              "36              Arkansas  2.053260e+11\n",
              "23                  Ohio  2.005834e+11\n",
              "21               Alabama  1.926308e+11\n",
              "32                 Maine  1.851445e+11\n",
              "19             Louisiana  1.849586e+11\n",
              "37           Mississippi  1.778440e+11\n",
              "44              Virginia  1.764152e+11\n",
              "31              Kentucky  1.667121e+11\n",
              "28             Tennessee  1.664790e+11\n",
              "41               Indiana  1.606546e+11\n",
              "26        South Carolina  1.206649e+11\n",
              "0          West Virginia  1.030459e+11\n",
              "4               Maryland  5.320401e+10\n",
              "43         Massachusetts  4.978455e+10\n",
              "8                Vermont  4.827445e+10\n",
              "6          New Hampshire  4.632641e+10\n",
              "13            New Jersey  3.867718e+10\n",
              "9            Connecticut  2.567823e+10\n",
              "10              Delaware  1.068708e+10\n",
              "45  District of Columbia  2.927452e+08"
            ]
          },
          "metadata": {
            "tags": []
          },
          "execution_count": 12
        }
      ]
    },
    {
      "cell_type": "markdown",
      "metadata": {
        "id": "4m53uSGWo5ij",
        "colab_type": "text"
      },
      "source": [
        "\n",
        "<br></br>\n",
        "Let's find out which state has the largest length (circumference)? Have another guess?"
      ]
    },
    {
      "cell_type": "code",
      "metadata": {
        "id": "kRbvDSflo5ij",
        "colab_type": "code",
        "colab": {
          "base_uri": "https://localhost:8080/",
          "height": 1000
        },
        "outputId": "6552d748-32b9-4a4b-abc1-7c93b42dd054"
      },
      "source": [
        "states_projected.sort_values('state_length', ascending=False)[['NAME','state_length']]"
      ],
      "execution_count": 13,
      "outputs": [
        {
          "output_type": "execute_result",
          "data": {
            "text/html": [
              "<div>\n",
              "<style scoped>\n",
              "    .dataframe tbody tr th:only-of-type {\n",
              "        vertical-align: middle;\n",
              "    }\n",
              "\n",
              "    .dataframe tbody tr th {\n",
              "        vertical-align: top;\n",
              "    }\n",
              "\n",
              "    .dataframe thead th {\n",
              "        text-align: right;\n",
              "    }\n",
              "</style>\n",
              "<table border=\"1\" class=\"dataframe\">\n",
              "  <thead>\n",
              "    <tr style=\"text-align: right;\">\n",
              "      <th></th>\n",
              "      <th>NAME</th>\n",
              "      <th>state_length</th>\n",
              "    </tr>\n",
              "  </thead>\n",
              "  <tbody>\n",
              "    <tr>\n",
              "      <th>24</th>\n",
              "      <td>Texas</td>\n",
              "      <td>6.845591e+06</td>\n",
              "    </tr>\n",
              "    <tr>\n",
              "      <th>12</th>\n",
              "      <td>California</td>\n",
              "      <td>5.257989e+06</td>\n",
              "    </tr>\n",
              "    <tr>\n",
              "      <th>39</th>\n",
              "      <td>Montana</td>\n",
              "      <td>4.615753e+06</td>\n",
              "    </tr>\n",
              "    <tr>\n",
              "      <th>3</th>\n",
              "      <td>Minnesota</td>\n",
              "      <td>4.510422e+06</td>\n",
              "    </tr>\n",
              "    <tr>\n",
              "      <th>5</th>\n",
              "      <td>Idaho</td>\n",
              "      <td>4.197446e+06</td>\n",
              "    </tr>\n",
              "    <tr>\n",
              "      <th>35</th>\n",
              "      <td>Michigan</td>\n",
              "      <td>3.795814e+06</td>\n",
              "    </tr>\n",
              "    <tr>\n",
              "      <th>1</th>\n",
              "      <td>Florida</td>\n",
              "      <td>3.734787e+06</td>\n",
              "    </tr>\n",
              "    <tr>\n",
              "      <th>27</th>\n",
              "      <td>Oklahoma</td>\n",
              "      <td>3.307801e+06</td>\n",
              "    </tr>\n",
              "    <tr>\n",
              "      <th>15</th>\n",
              "      <td>Oregon</td>\n",
              "      <td>3.282428e+06</td>\n",
              "    </tr>\n",
              "    <tr>\n",
              "      <th>33</th>\n",
              "      <td>New York</td>\n",
              "      <td>3.212606e+06</td>\n",
              "    </tr>\n",
              "    <tr>\n",
              "      <th>30</th>\n",
              "      <td>North Dakota</td>\n",
              "      <td>3.125605e+06</td>\n",
              "    </tr>\n",
              "    <tr>\n",
              "      <th>19</th>\n",
              "      <td>Louisiana</td>\n",
              "      <td>3.078644e+06</td>\n",
              "    </tr>\n",
              "    <tr>\n",
              "      <th>34</th>\n",
              "      <td>Nevada</td>\n",
              "      <td>3.054836e+06</td>\n",
              "    </tr>\n",
              "    <tr>\n",
              "      <th>38</th>\n",
              "      <td>Missouri</td>\n",
              "      <td>3.050107e+06</td>\n",
              "    </tr>\n",
              "    <tr>\n",
              "      <th>14</th>\n",
              "      <td>Wisconsin</td>\n",
              "      <td>3.030128e+06</td>\n",
              "    </tr>\n",
              "    <tr>\n",
              "      <th>42</th>\n",
              "      <td>South Dakota</td>\n",
              "      <td>2.963038e+06</td>\n",
              "    </tr>\n",
              "    <tr>\n",
              "      <th>44</th>\n",
              "      <td>Virginia</td>\n",
              "      <td>2.949640e+06</td>\n",
              "    </tr>\n",
              "    <tr>\n",
              "      <th>18</th>\n",
              "      <td>Washington</td>\n",
              "      <td>2.926237e+06</td>\n",
              "    </tr>\n",
              "    <tr>\n",
              "      <th>16</th>\n",
              "      <td>Nebraska</td>\n",
              "      <td>2.922198e+06</td>\n",
              "    </tr>\n",
              "    <tr>\n",
              "      <th>47</th>\n",
              "      <td>Arizona</td>\n",
              "      <td>2.907360e+06</td>\n",
              "    </tr>\n",
              "    <tr>\n",
              "      <th>11</th>\n",
              "      <td>New Mexico</td>\n",
              "      <td>2.900303e+06</td>\n",
              "    </tr>\n",
              "    <tr>\n",
              "      <th>2</th>\n",
              "      <td>Illinois</td>\n",
              "      <td>2.861004e+06</td>\n",
              "    </tr>\n",
              "    <tr>\n",
              "      <th>37</th>\n",
              "      <td>Mississippi</td>\n",
              "      <td>2.855253e+06</td>\n",
              "    </tr>\n",
              "    <tr>\n",
              "      <th>29</th>\n",
              "      <td>Wyoming</td>\n",
              "      <td>2.777134e+06</td>\n",
              "    </tr>\n",
              "    <tr>\n",
              "      <th>31</th>\n",
              "      <td>Kentucky</td>\n",
              "      <td>2.753449e+06</td>\n",
              "    </tr>\n",
              "    <tr>\n",
              "      <th>25</th>\n",
              "      <td>Colorado</td>\n",
              "      <td>2.708265e+06</td>\n",
              "    </tr>\n",
              "    <tr>\n",
              "      <th>7</th>\n",
              "      <td>North Carolina</td>\n",
              "      <td>2.668713e+06</td>\n",
              "    </tr>\n",
              "    <tr>\n",
              "      <th>36</th>\n",
              "      <td>Arkansas</td>\n",
              "      <td>2.656504e+06</td>\n",
              "    </tr>\n",
              "    <tr>\n",
              "      <th>28</th>\n",
              "      <td>Tennessee</td>\n",
              "      <td>2.621413e+06</td>\n",
              "    </tr>\n",
              "    <tr>\n",
              "      <th>0</th>\n",
              "      <td>West Virginia</td>\n",
              "      <td>2.614070e+06</td>\n",
              "    </tr>\n",
              "    <tr>\n",
              "      <th>40</th>\n",
              "      <td>Kansas</td>\n",
              "      <td>2.570737e+06</td>\n",
              "    </tr>\n",
              "    <tr>\n",
              "      <th>22</th>\n",
              "      <td>Utah</td>\n",
              "      <td>2.557182e+06</td>\n",
              "    </tr>\n",
              "    <tr>\n",
              "      <th>32</th>\n",
              "      <td>Maine</td>\n",
              "      <td>2.553982e+06</td>\n",
              "    </tr>\n",
              "    <tr>\n",
              "      <th>20</th>\n",
              "      <td>Georgia</td>\n",
              "      <td>2.528321e+06</td>\n",
              "    </tr>\n",
              "    <tr>\n",
              "      <th>46</th>\n",
              "      <td>Iowa</td>\n",
              "      <td>2.527129e+06</td>\n",
              "    </tr>\n",
              "    <tr>\n",
              "      <th>41</th>\n",
              "      <td>Indiana</td>\n",
              "      <td>2.212954e+06</td>\n",
              "    </tr>\n",
              "    <tr>\n",
              "      <th>17</th>\n",
              "      <td>Pennsylvania</td>\n",
              "      <td>2.174488e+06</td>\n",
              "    </tr>\n",
              "    <tr>\n",
              "      <th>23</th>\n",
              "      <td>Ohio</td>\n",
              "      <td>2.127152e+06</td>\n",
              "    </tr>\n",
              "    <tr>\n",
              "      <th>21</th>\n",
              "      <td>Alabama</td>\n",
              "      <td>2.125037e+06</td>\n",
              "    </tr>\n",
              "    <tr>\n",
              "      <th>26</th>\n",
              "      <td>South Carolina</td>\n",
              "      <td>1.863644e+06</td>\n",
              "    </tr>\n",
              "    <tr>\n",
              "      <th>4</th>\n",
              "      <td>Maryland</td>\n",
              "      <td>1.835189e+06</td>\n",
              "    </tr>\n",
              "    <tr>\n",
              "      <th>43</th>\n",
              "      <td>Massachusetts</td>\n",
              "      <td>1.478876e+06</td>\n",
              "    </tr>\n",
              "    <tr>\n",
              "      <th>6</th>\n",
              "      <td>New Hampshire</td>\n",
              "      <td>1.360486e+06</td>\n",
              "    </tr>\n",
              "    <tr>\n",
              "      <th>8</th>\n",
              "      <td>Vermont</td>\n",
              "      <td>1.281076e+06</td>\n",
              "    </tr>\n",
              "    <tr>\n",
              "      <th>13</th>\n",
              "      <td>New Jersey</td>\n",
              "      <td>1.095415e+06</td>\n",
              "    </tr>\n",
              "    <tr>\n",
              "      <th>9</th>\n",
              "      <td>Connecticut</td>\n",
              "      <td>7.073967e+05</td>\n",
              "    </tr>\n",
              "    <tr>\n",
              "      <th>10</th>\n",
              "      <td>Delaware</td>\n",
              "      <td>5.417986e+05</td>\n",
              "    </tr>\n",
              "    <tr>\n",
              "      <th>45</th>\n",
              "      <td>District of Columbia</td>\n",
              "      <td>8.630065e+04</td>\n",
              "    </tr>\n",
              "  </tbody>\n",
              "</table>\n",
              "</div>"
            ],
            "text/plain": [
              "                    NAME  state_length\n",
              "24                 Texas  6.845591e+06\n",
              "12            California  5.257989e+06\n",
              "39               Montana  4.615753e+06\n",
              "3              Minnesota  4.510422e+06\n",
              "5                  Idaho  4.197446e+06\n",
              "35              Michigan  3.795814e+06\n",
              "1                Florida  3.734787e+06\n",
              "27              Oklahoma  3.307801e+06\n",
              "15                Oregon  3.282428e+06\n",
              "33              New York  3.212606e+06\n",
              "30          North Dakota  3.125605e+06\n",
              "19             Louisiana  3.078644e+06\n",
              "34                Nevada  3.054836e+06\n",
              "38              Missouri  3.050107e+06\n",
              "14             Wisconsin  3.030128e+06\n",
              "42          South Dakota  2.963038e+06\n",
              "44              Virginia  2.949640e+06\n",
              "18            Washington  2.926237e+06\n",
              "16              Nebraska  2.922198e+06\n",
              "47               Arizona  2.907360e+06\n",
              "11            New Mexico  2.900303e+06\n",
              "2               Illinois  2.861004e+06\n",
              "37           Mississippi  2.855253e+06\n",
              "29               Wyoming  2.777134e+06\n",
              "31              Kentucky  2.753449e+06\n",
              "25              Colorado  2.708265e+06\n",
              "7         North Carolina  2.668713e+06\n",
              "36              Arkansas  2.656504e+06\n",
              "28             Tennessee  2.621413e+06\n",
              "0          West Virginia  2.614070e+06\n",
              "40                Kansas  2.570737e+06\n",
              "22                  Utah  2.557182e+06\n",
              "32                 Maine  2.553982e+06\n",
              "20               Georgia  2.528321e+06\n",
              "46                  Iowa  2.527129e+06\n",
              "41               Indiana  2.212954e+06\n",
              "17          Pennsylvania  2.174488e+06\n",
              "23                  Ohio  2.127152e+06\n",
              "21               Alabama  2.125037e+06\n",
              "26        South Carolina  1.863644e+06\n",
              "4               Maryland  1.835189e+06\n",
              "43         Massachusetts  1.478876e+06\n",
              "6          New Hampshire  1.360486e+06\n",
              "8                Vermont  1.281076e+06\n",
              "13            New Jersey  1.095415e+06\n",
              "9            Connecticut  7.073967e+05\n",
              "10              Delaware  5.417986e+05\n",
              "45  District of Columbia  8.630065e+04"
            ]
          },
          "metadata": {
            "tags": []
          },
          "execution_count": 13
        }
      ]
    },
    {
      "cell_type": "code",
      "metadata": {
        "id": "wOzMaLoTo5im",
        "colab_type": "code",
        "colab": {}
      },
      "source": [
        ""
      ],
      "execution_count": 0,
      "outputs": []
    },
    {
      "cell_type": "code",
      "metadata": {
        "id": "5ggqo4Yro5in",
        "colab_type": "code",
        "colab": {}
      },
      "source": [
        ""
      ],
      "execution_count": 0,
      "outputs": []
    }
  ]
}